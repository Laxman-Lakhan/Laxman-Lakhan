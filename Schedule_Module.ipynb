{
  "nbformat": 4,
  "nbformat_minor": 0,
  "metadata": {
    "colab": {
      "name": "Schedule Module.ipynb",
      "provenance": [],
      "authorship_tag": "ABX9TyPw3dNSYOCh02yzJLTJtHwm",
      "include_colab_link": true
    },
    "kernelspec": {
      "name": "python3",
      "display_name": "Python 3"
    },
    "language_info": {
      "name": "python"
    }
  },
  "cells": [
    {
      "cell_type": "markdown",
      "metadata": {
        "id": "view-in-github",
        "colab_type": "text"
      },
      "source": [
        "<a href=\"https://colab.research.google.com/github/Laxman-Lakhan/Laxman-Lakhan/blob/main/Schedule_Module.ipynb\" target=\"_parent\"><img src=\"https://colab.research.google.com/assets/colab-badge.svg\" alt=\"Open In Colab\"/></a>"
      ]
    },
    {
      "cell_type": "code",
      "execution_count": null,
      "metadata": {
        "colab": {
          "base_uri": "https://localhost:8080/"
        },
        "id": "u7nuow7AEE4B",
        "outputId": "75810d73-2ee0-4190-850c-d2438248913c"
      },
      "outputs": [
        {
          "output_type": "stream",
          "name": "stdout",
          "text": [
            "Requirement already satisfied: schedule in /usr/local/lib/python3.7/dist-packages (1.1.0)\n"
          ]
        }
      ],
      "source": [
        "!pip install schedule"
      ]
    },
    {
      "cell_type": "code",
      "source": [
        "import schedule\n",
        "import time"
      ],
      "metadata": {
        "id": "FMK9g4tRELtv"
      },
      "execution_count": null,
      "outputs": []
    },
    {
      "cell_type": "code",
      "source": [
        "def jack():\n",
        "  print('Hello Laxman')"
      ],
      "metadata": {
        "id": "Rb8zB3M7J_eK"
      },
      "execution_count": null,
      "outputs": []
    },
    {
      "cell_type": "code",
      "source": [
        "schedule.every(5).minutes.do(jack)\n",
        "\n",
        "while True:\n",
        "  schedule.run_pending()\n",
        "  time.sleep(1)"
      ],
      "metadata": {
        "id": "urtxU8wiG1p4"
      },
      "execution_count": null,
      "outputs": []
    },
    {
      "cell_type": "code",
      "source": [
        "schedule.clear()"
      ],
      "metadata": {
        "id": "efJRLdFEKgB8"
      },
      "execution_count": 32,
      "outputs": []
    }
  ]
}